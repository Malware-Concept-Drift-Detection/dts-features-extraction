{
 "cells": [
  {
   "cell_type": "code",
   "execution_count": 1,
   "id": "41625c44-786b-4ff0-9342-ce4dd17a09e0",
   "metadata": {
    "ExecuteTime": {
     "end_time": "2024-02-14T13:13:05.873399835Z",
     "start_time": "2024-02-14T13:13:05.847514573Z"
    }
   },
   "outputs": [],
   "source": [
    "import pandas as pd\n",
    "import seaborn as sns\n",
    "import numpy as np\n",
    "import json\n",
    "from io import StringIO"
   ]
  },
  {
   "cell_type": "code",
   "execution_count": 2,
   "id": "8f135bca-3024-4118-85ac-367ab46a981a",
   "metadata": {
    "ExecuteTime": {
     "end_time": "2024-02-14T13:13:05.875378113Z",
     "start_time": "2024-02-14T13:13:05.850244113Z"
    }
   },
   "outputs": [],
   "source": [
    "# Open VT reports and get SHA256 and first_submission_date values for each json (line).\n",
    "def extract_first_submission_dates(file_path) -> pd.DataFrame:\n",
    "    malwares_first_sub_date = []\n",
    "    with open(file_path, 'r') as reports:\n",
    "        sha256_key, first_sub_date_key = 'sha256', 'first_submission_date'\n",
    "        # Iterate through all reports\n",
    "        for report in reports:\n",
    "            df_report = pd.read_json(StringIO(report))['data']['attributes']\n",
    "            sha256, first_sub_date = df_report[sha256_key], df_report[first_sub_date_key]\n",
    "            malwares_first_sub_date.append((sha256, first_sub_date))\n",
    "\n",
    "    return pd.DataFrame(malwares_first_sub_date, columns=[sha256_key, first_sub_date_key])\n"
   ]
  },
  {
   "cell_type": "code",
   "execution_count": 3,
   "id": "aa786b9e-f1ea-4efa-912c-b37fffeb44a0",
   "metadata": {
    "ExecuteTime": {
     "end_time": "2024-02-14T13:16:05.952806065Z",
     "start_time": "2024-02-14T13:13:05.850862205Z"
    }
   },
   "outputs": [
    {
     "data": {
      "text/plain": "                                              sha256  first_submission_date\n0  98f8e26e12b978102fa39c197f300ebe5fe535617737d5...             1630575593\n1  7b2999ffadbc3b5b5c5e94145ca4e2f8de66ac1e3ddd52...             1629375559\n2  e7569d494fe00be04ef6c9fcc5e54720c0df623b08e79d...             1362057319\n3  1ed60c04f572b6acb9f64c31db55ef5c6b5465bd4da1eb...             1630624233\n4  4c4aaff20a57213d9a786e56ad22f1eaa94694a2f1042b...             1592186154",
      "text/html": "<div>\n<style scoped>\n    .dataframe tbody tr th:only-of-type {\n        vertical-align: middle;\n    }\n\n    .dataframe tbody tr th {\n        vertical-align: top;\n    }\n\n    .dataframe thead th {\n        text-align: right;\n    }\n</style>\n<table border=\"1\" class=\"dataframe\">\n  <thead>\n    <tr style=\"text-align: right;\">\n      <th></th>\n      <th>sha256</th>\n      <th>first_submission_date</th>\n    </tr>\n  </thead>\n  <tbody>\n    <tr>\n      <th>0</th>\n      <td>98f8e26e12b978102fa39c197f300ebe5fe535617737d5...</td>\n      <td>1630575593</td>\n    </tr>\n    <tr>\n      <th>1</th>\n      <td>7b2999ffadbc3b5b5c5e94145ca4e2f8de66ac1e3ddd52...</td>\n      <td>1629375559</td>\n    </tr>\n    <tr>\n      <th>2</th>\n      <td>e7569d494fe00be04ef6c9fcc5e54720c0df623b08e79d...</td>\n      <td>1362057319</td>\n    </tr>\n    <tr>\n      <th>3</th>\n      <td>1ed60c04f572b6acb9f64c31db55ef5c6b5465bd4da1eb...</td>\n      <td>1630624233</td>\n    </tr>\n    <tr>\n      <th>4</th>\n      <td>4c4aaff20a57213d9a786e56ad22f1eaa94694a2f1042b...</td>\n      <td>1592186154</td>\n    </tr>\n  </tbody>\n</table>\n</div>"
     },
     "execution_count": 3,
     "metadata": {},
     "output_type": "execute_result"
    }
   ],
   "source": [
    "reports_path = './vt/vt_reports67k.jsons'\n",
    "df_malwares_first_sub_date = extract_first_submission_dates(file_path=reports_path)\n",
    "\n",
    "df_malwares_first_sub_date.head()"
   ]
  },
  {
   "cell_type": "code",
   "execution_count": 4,
   "id": "74743895-f376-4014-9470-0490564d51af",
   "metadata": {
    "ExecuteTime": {
     "end_time": "2024-02-14T13:16:05.955698761Z",
     "start_time": "2024-02-14T13:16:05.950892326Z"
    }
   },
   "outputs": [],
   "source": [
    "def extract_malware_family(file_path) -> pd.DataFrame:\n",
    "    df = pd.read_csv(file_path, usecols=['SHA256', 'FAMILY'])\n",
    "    return df.rename(str.lower, axis='columns')"
   ]
  },
  {
   "cell_type": "code",
   "execution_count": 5,
   "id": "0e238386-5986-42ea-bc45-c576826647a4",
   "metadata": {
    "ExecuteTime": {
     "end_time": "2024-02-14T13:16:06.153207107Z",
     "start_time": "2024-02-14T13:16:05.956623367Z"
    }
   },
   "outputs": [
    {
     "data": {
      "text/plain": "  family                                             sha256\n0   daws  ff4f212ba3b36caa43eacc31a9edf9336e5fb75d7ccaf2...\n1   daws  fe4353cc18c5391b2b465fac7b3f2085d420523db2acff...\n2   daws  fc168e27287ede856b8e4fbc0673469ec8e62db88e5c18...\n3   daws  fb295d4cbf860e1bb12bbb87228fbacb65978f73baacf0...\n4   daws  fa2abb1e3133d4e1c873584fd296bbaf7b9d4fc2c49875...",
      "text/html": "<div>\n<style scoped>\n    .dataframe tbody tr th:only-of-type {\n        vertical-align: middle;\n    }\n\n    .dataframe tbody tr th {\n        vertical-align: top;\n    }\n\n    .dataframe thead th {\n        text-align: right;\n    }\n</style>\n<table border=\"1\" class=\"dataframe\">\n  <thead>\n    <tr style=\"text-align: right;\">\n      <th></th>\n      <th>family</th>\n      <th>sha256</th>\n    </tr>\n  </thead>\n  <tbody>\n    <tr>\n      <th>0</th>\n      <td>daws</td>\n      <td>ff4f212ba3b36caa43eacc31a9edf9336e5fb75d7ccaf2...</td>\n    </tr>\n    <tr>\n      <th>1</th>\n      <td>daws</td>\n      <td>fe4353cc18c5391b2b465fac7b3f2085d420523db2acff...</td>\n    </tr>\n    <tr>\n      <th>2</th>\n      <td>daws</td>\n      <td>fc168e27287ede856b8e4fbc0673469ec8e62db88e5c18...</td>\n    </tr>\n    <tr>\n      <th>3</th>\n      <td>daws</td>\n      <td>fb295d4cbf860e1bb12bbb87228fbacb65978f73baacf0...</td>\n    </tr>\n    <tr>\n      <th>4</th>\n      <td>daws</td>\n      <td>fa2abb1e3133d4e1c873584fd296bbaf7b9d4fc2c49875...</td>\n    </tr>\n  </tbody>\n</table>\n</div>"
     },
     "execution_count": 5,
     "metadata": {},
     "output_type": "execute_result"
    }
   ],
   "source": [
    "malware_families_path = \"./vt/siggregator_all_samples_no_fuzzy_hash.csv\"\n",
    "df_malware_families = extract_malware_family(file_path=malware_families_path)\n",
    "df_malware_families.head()"
   ]
  },
  {
   "cell_type": "code",
   "execution_count": 6,
   "id": "c1c250ad-8ec6-4085-9939-d955fc5fe239",
   "metadata": {
    "ExecuteTime": {
     "end_time": "2024-02-14T13:16:06.231336293Z",
     "start_time": "2024-02-14T13:16:06.152675449Z"
    }
   },
   "outputs": [
    {
     "data": {
      "text/plain": "                                              sha256  first_submission_date  \\\n0  98f8e26e12b978102fa39c197f300ebe5fe535617737d5...             1630575593   \n1  7b2999ffadbc3b5b5c5e94145ca4e2f8de66ac1e3ddd52...             1629375559   \n2  e7569d494fe00be04ef6c9fcc5e54720c0df623b08e79d...             1362057319   \n3  1ed60c04f572b6acb9f64c31db55ef5c6b5465bd4da1eb...             1630624233   \n4  4c4aaff20a57213d9a786e56ad22f1eaa94694a2f1042b...             1592186154   \n\n     family  \n0     tnega  \n1    quasar  \n2     pasta  \n3    cjishu  \n4  kingsoft  ",
      "text/html": "<div>\n<style scoped>\n    .dataframe tbody tr th:only-of-type {\n        vertical-align: middle;\n    }\n\n    .dataframe tbody tr th {\n        vertical-align: top;\n    }\n\n    .dataframe thead th {\n        text-align: right;\n    }\n</style>\n<table border=\"1\" class=\"dataframe\">\n  <thead>\n    <tr style=\"text-align: right;\">\n      <th></th>\n      <th>sha256</th>\n      <th>first_submission_date</th>\n      <th>family</th>\n    </tr>\n  </thead>\n  <tbody>\n    <tr>\n      <th>0</th>\n      <td>98f8e26e12b978102fa39c197f300ebe5fe535617737d5...</td>\n      <td>1630575593</td>\n      <td>tnega</td>\n    </tr>\n    <tr>\n      <th>1</th>\n      <td>7b2999ffadbc3b5b5c5e94145ca4e2f8de66ac1e3ddd52...</td>\n      <td>1629375559</td>\n      <td>quasar</td>\n    </tr>\n    <tr>\n      <th>2</th>\n      <td>e7569d494fe00be04ef6c9fcc5e54720c0df623b08e79d...</td>\n      <td>1362057319</td>\n      <td>pasta</td>\n    </tr>\n    <tr>\n      <th>3</th>\n      <td>1ed60c04f572b6acb9f64c31db55ef5c6b5465bd4da1eb...</td>\n      <td>1630624233</td>\n      <td>cjishu</td>\n    </tr>\n    <tr>\n      <th>4</th>\n      <td>4c4aaff20a57213d9a786e56ad22f1eaa94694a2f1042b...</td>\n      <td>1592186154</td>\n      <td>kingsoft</td>\n    </tr>\n  </tbody>\n</table>\n</div>"
     },
     "execution_count": 6,
     "metadata": {},
     "output_type": "execute_result"
    }
   ],
   "source": [
    "# Join dataframes\n",
    "df = pd.merge(left=df_malwares_first_sub_date, right=df_malware_families, on='sha256')\n",
    "df.head()"
   ]
  },
  {
   "cell_type": "code",
   "execution_count": null,
   "outputs": [],
   "source": [
    "df.to_csv(\"merge.csv\")"
   ],
   "metadata": {
    "collapsed": false
   },
   "id": "7cc4ab4a11a90476"
  }
 ],
 "metadata": {
  "kernelspec": {
   "display_name": "myenv",
   "language": "python",
   "name": "myenv"
  },
  "language_info": {
   "codemirror_mode": {
    "name": "ipython",
    "version": 3
   },
   "file_extension": ".py",
   "mimetype": "text/x-python",
   "name": "python",
   "nbconvert_exporter": "python",
   "pygments_lexer": "ipython3",
   "version": "3.11.6"
  }
 },
 "nbformat": 4,
 "nbformat_minor": 5
}
