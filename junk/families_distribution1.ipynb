{
 "cells": [
  {
   "cell_type": "code",
   "execution_count": 1,
   "id": "41625c44-786b-4ff0-9342-ce4dd17a09e0",
   "metadata": {},
   "outputs": [
    {
     "name": "stderr",
     "output_type": "stream",
     "text": [
      "/tmp/ipykernel_11523/2238799777.py:1: DeprecationWarning: \n",
      "Pyarrow will become a required dependency of pandas in the next major release of pandas (pandas 3.0),\n",
      "(to allow more performant data types, such as the Arrow string type, and better interoperability with other libraries)\n",
      "but was not found to be installed on your system.\n",
      "If this would cause problems for you,\n",
      "please provide us feedback at https://github.com/pandas-dev/pandas/issues/54466\n",
      "        \n",
      "  import pandas as pd\n"
     ]
    }
   ],
   "source": [
    "import pandas as pd\n",
    "import seaborn as sns\n",
    "import numpy as np\n",
    "import json\n",
    "from io import StringIO"
   ]
  },
  {
   "cell_type": "code",
   "execution_count": 38,
   "id": "8f135bca-3024-4118-85ac-367ab46a981a",
   "metadata": {},
   "outputs": [],
   "source": [
    "from datetime import datetime\n",
    "\n",
    "\n",
    "# Open VT reports and get SHA256 and first_submission_date values for each json (line).\n",
    "def extract_first_submission_dates(file_path) -> pd.DataFrame:\n",
    "    malwares_first_sub_date = []\n",
    "    with open(file_path, 'r') as reports:\n",
    "        sha256_key, first_sub_date_key = 'sha256', 'first_submission_date'\n",
    "        # Iterate through all reports\n",
    "        for report in reports:\n",
    "            df_report = pd.read_json(StringIO(report))['data']['attributes']\n",
    "            sha256, first_sub_date = df_report[sha256_key], df_report[first_sub_date_key]\n",
    "            malwares_first_sub_date.append((sha256, first_sub_date))\n",
    "\n",
    "    return pd.DataFrame(malwares_first_sub_date, columns=[sha256_key, first_sub_date_key])\n"
   ]
  },
  {
   "cell_type": "code",
   "execution_count": 39,
   "id": "aa786b9e-f1ea-4efa-912c-b37fffeb44a0",
   "metadata": {},
   "outputs": [
    {
     "data": {
      "text/html": [
       "<div>\n",
       "<style scoped>\n",
       "    .dataframe tbody tr th:only-of-type {\n",
       "        vertical-align: middle;\n",
       "    }\n",
       "\n",
       "    .dataframe tbody tr th {\n",
       "        vertical-align: top;\n",
       "    }\n",
       "\n",
       "    .dataframe thead th {\n",
       "        text-align: right;\n",
       "    }\n",
       "</style>\n",
       "<table border=\"1\" class=\"dataframe\">\n",
       "  <thead>\n",
       "    <tr style=\"text-align: right;\">\n",
       "      <th></th>\n",
       "      <th>sha256</th>\n",
       "      <th>first_submission_date</th>\n",
       "    </tr>\n",
       "  </thead>\n",
       "  <tbody>\n",
       "    <tr>\n",
       "      <th>0</th>\n",
       "      <td>98f8e26e12b978102fa39c197f300ebe5fe535617737d5...</td>\n",
       "      <td>1630575593</td>\n",
       "    </tr>\n",
       "    <tr>\n",
       "      <th>1</th>\n",
       "      <td>7b2999ffadbc3b5b5c5e94145ca4e2f8de66ac1e3ddd52...</td>\n",
       "      <td>1629375559</td>\n",
       "    </tr>\n",
       "    <tr>\n",
       "      <th>2</th>\n",
       "      <td>e7569d494fe00be04ef6c9fcc5e54720c0df623b08e79d...</td>\n",
       "      <td>1362057319</td>\n",
       "    </tr>\n",
       "    <tr>\n",
       "      <th>3</th>\n",
       "      <td>1ed60c04f572b6acb9f64c31db55ef5c6b5465bd4da1eb...</td>\n",
       "      <td>1630624233</td>\n",
       "    </tr>\n",
       "    <tr>\n",
       "      <th>4</th>\n",
       "      <td>4c4aaff20a57213d9a786e56ad22f1eaa94694a2f1042b...</td>\n",
       "      <td>1592186154</td>\n",
       "    </tr>\n",
       "  </tbody>\n",
       "</table>\n",
       "</div>"
      ],
      "text/plain": [
       "                                              sha256  first_submission_date\n",
       "0  98f8e26e12b978102fa39c197f300ebe5fe535617737d5...             1630575593\n",
       "1  7b2999ffadbc3b5b5c5e94145ca4e2f8de66ac1e3ddd52...             1629375559\n",
       "2  e7569d494fe00be04ef6c9fcc5e54720c0df623b08e79d...             1362057319\n",
       "3  1ed60c04f572b6acb9f64c31db55ef5c6b5465bd4da1eb...             1630624233\n",
       "4  4c4aaff20a57213d9a786e56ad22f1eaa94694a2f1042b...             1592186154"
      ]
     },
     "execution_count": 39,
     "metadata": {},
     "output_type": "execute_result"
    }
   ],
   "source": [
    "reports_path = './vt/vt_reports67k.jsons'\n",
    "df_malwares_first_sub_date = extract_first_submission_dates(file_path=reports_path)\n",
    "\n",
    "df_malwares_first_sub_date.head()"
   ]
  },
  {
   "cell_type": "code",
   "execution_count": 40,
   "id": "74743895-f376-4014-9470-0490564d51af",
   "metadata": {},
   "outputs": [],
   "source": [
    "def extract_malware_family(file_path) -> pd.DataFrame:\n",
    "    df = pd.read_csv(file_path, usecols=['SHA256', 'FAMILY'])\n",
    "    return df.rename(str.lower, axis='columns')"
   ]
  },
  {
   "cell_type": "code",
   "execution_count": 41,
   "id": "0e238386-5986-42ea-bc45-c576826647a4",
   "metadata": {},
   "outputs": [
    {
     "data": {
      "text/html": [
       "<div>\n",
       "<style scoped>\n",
       "    .dataframe tbody tr th:only-of-type {\n",
       "        vertical-align: middle;\n",
       "    }\n",
       "\n",
       "    .dataframe tbody tr th {\n",
       "        vertical-align: top;\n",
       "    }\n",
       "\n",
       "    .dataframe thead th {\n",
       "        text-align: right;\n",
       "    }\n",
       "</style>\n",
       "<table border=\"1\" class=\"dataframe\">\n",
       "  <thead>\n",
       "    <tr style=\"text-align: right;\">\n",
       "      <th></th>\n",
       "      <th>family</th>\n",
       "      <th>sha256</th>\n",
       "    </tr>\n",
       "  </thead>\n",
       "  <tbody>\n",
       "    <tr>\n",
       "      <th>0</th>\n",
       "      <td>daws</td>\n",
       "      <td>ff4f212ba3b36caa43eacc31a9edf9336e5fb75d7ccaf2...</td>\n",
       "    </tr>\n",
       "    <tr>\n",
       "      <th>1</th>\n",
       "      <td>daws</td>\n",
       "      <td>fe4353cc18c5391b2b465fac7b3f2085d420523db2acff...</td>\n",
       "    </tr>\n",
       "    <tr>\n",
       "      <th>2</th>\n",
       "      <td>daws</td>\n",
       "      <td>fc168e27287ede856b8e4fbc0673469ec8e62db88e5c18...</td>\n",
       "    </tr>\n",
       "    <tr>\n",
       "      <th>3</th>\n",
       "      <td>daws</td>\n",
       "      <td>fb295d4cbf860e1bb12bbb87228fbacb65978f73baacf0...</td>\n",
       "    </tr>\n",
       "    <tr>\n",
       "      <th>4</th>\n",
       "      <td>daws</td>\n",
       "      <td>fa2abb1e3133d4e1c873584fd296bbaf7b9d4fc2c49875...</td>\n",
       "    </tr>\n",
       "  </tbody>\n",
       "</table>\n",
       "</div>"
      ],
      "text/plain": [
       "  family                                             sha256\n",
       "0   daws  ff4f212ba3b36caa43eacc31a9edf9336e5fb75d7ccaf2...\n",
       "1   daws  fe4353cc18c5391b2b465fac7b3f2085d420523db2acff...\n",
       "2   daws  fc168e27287ede856b8e4fbc0673469ec8e62db88e5c18...\n",
       "3   daws  fb295d4cbf860e1bb12bbb87228fbacb65978f73baacf0...\n",
       "4   daws  fa2abb1e3133d4e1c873584fd296bbaf7b9d4fc2c49875..."
      ]
     },
     "execution_count": 41,
     "metadata": {},
     "output_type": "execute_result"
    }
   ],
   "source": [
    "malware_families_path = \"./vt/siggregator_all_samples_no_fuzzy_hash.csv\"\n",
    "df_malware_families = extract_malware_family(file_path=malware_families_path)\n",
    "df_malware_families.head()"
   ]
  },
  {
   "cell_type": "code",
   "execution_count": 52,
   "id": "c1c250ad-8ec6-4085-9939-d955fc5fe239",
   "metadata": {},
   "outputs": [
    {
     "data": {
      "text/html": [
       "<div>\n",
       "<style scoped>\n",
       "    .dataframe tbody tr th:only-of-type {\n",
       "        vertical-align: middle;\n",
       "    }\n",
       "\n",
       "    .dataframe tbody tr th {\n",
       "        vertical-align: top;\n",
       "    }\n",
       "\n",
       "    .dataframe thead th {\n",
       "        text-align: right;\n",
       "    }\n",
       "</style>\n",
       "<table border=\"1\" class=\"dataframe\">\n",
       "  <thead>\n",
       "    <tr style=\"text-align: right;\">\n",
       "      <th></th>\n",
       "      <th>sha256</th>\n",
       "      <th>first_submission_date</th>\n",
       "      <th>family</th>\n",
       "    </tr>\n",
       "  </thead>\n",
       "  <tbody>\n",
       "    <tr>\n",
       "      <th>0</th>\n",
       "      <td>98f8e26e12b978102fa39c197f300ebe5fe535617737d5...</td>\n",
       "      <td>1630575593</td>\n",
       "      <td>tnega</td>\n",
       "    </tr>\n",
       "    <tr>\n",
       "      <th>1</th>\n",
       "      <td>7b2999ffadbc3b5b5c5e94145ca4e2f8de66ac1e3ddd52...</td>\n",
       "      <td>1629375559</td>\n",
       "      <td>quasar</td>\n",
       "    </tr>\n",
       "    <tr>\n",
       "      <th>2</th>\n",
       "      <td>e7569d494fe00be04ef6c9fcc5e54720c0df623b08e79d...</td>\n",
       "      <td>1362057319</td>\n",
       "      <td>pasta</td>\n",
       "    </tr>\n",
       "    <tr>\n",
       "      <th>3</th>\n",
       "      <td>1ed60c04f572b6acb9f64c31db55ef5c6b5465bd4da1eb...</td>\n",
       "      <td>1630624233</td>\n",
       "      <td>cjishu</td>\n",
       "    </tr>\n",
       "    <tr>\n",
       "      <th>4</th>\n",
       "      <td>4c4aaff20a57213d9a786e56ad22f1eaa94694a2f1042b...</td>\n",
       "      <td>1592186154</td>\n",
       "      <td>kingsoft</td>\n",
       "    </tr>\n",
       "  </tbody>\n",
       "</table>\n",
       "</div>"
      ],
      "text/plain": [
       "                                              sha256  first_submission_date  \\\n",
       "0  98f8e26e12b978102fa39c197f300ebe5fe535617737d5...             1630575593   \n",
       "1  7b2999ffadbc3b5b5c5e94145ca4e2f8de66ac1e3ddd52...             1629375559   \n",
       "2  e7569d494fe00be04ef6c9fcc5e54720c0df623b08e79d...             1362057319   \n",
       "3  1ed60c04f572b6acb9f64c31db55ef5c6b5465bd4da1eb...             1630624233   \n",
       "4  4c4aaff20a57213d9a786e56ad22f1eaa94694a2f1042b...             1592186154   \n",
       "\n",
       "     family  \n",
       "0     tnega  \n",
       "1    quasar  \n",
       "2     pasta  \n",
       "3    cjishu  \n",
       "4  kingsoft  "
      ]
     },
     "execution_count": 52,
     "metadata": {},
     "output_type": "execute_result"
    }
   ],
   "source": [
    "# Join dataframes\n",
    "df = pd.merge(left=df_malwares_first_sub_date, right=df_malware_families, on='sha256')\n",
    "df.head()"
   ]
  },
  {
   "cell_type": "code",
   "execution_count": 43,
   "id": "9b27ad36-0432-4f55-b72d-6088b991a7aa",
   "metadata": {},
   "outputs": [
    {
     "data": {
      "text/plain": [
       "array([[<Axes: title={'center': 'first_submission_date'}>]], dtype=object)"
      ]
     },
     "execution_count": 43,
     "metadata": {},
     "output_type": "execute_result"
    },
    {
     "data": {
      "image/png": "[encoded data removed]",
      "text/plain": [
       "<Figure size 640x480 with 1 Axes>"
      ]
     },
     "metadata": {},
     "output_type": "display_data"
    }
   ],
   "source": [
    "pd.DataFrame.hist(df, )"
   ]
  },
  {
   "cell_type": "code",
   "execution_count": 53,
   "id": "b69a2dad-810a-464c-bc9e-55abce65ef94",
   "metadata": {},
   "outputs": [
    {
     "data": {
      "text/html": [
       "<div>\n",
       "<style scoped>\n",
       "    .dataframe tbody tr th:only-of-type {\n",
       "        vertical-align: middle;\n",
       "    }\n",
       "\n",
       "    .dataframe tbody tr th {\n",
       "        vertical-align: top;\n",
       "    }\n",
       "\n",
       "    .dataframe thead th {\n",
       "        text-align: right;\n",
       "    }\n",
       "</style>\n",
       "<table border=\"1\" class=\"dataframe\">\n",
       "  <thead>\n",
       "    <tr style=\"text-align: right;\">\n",
       "      <th></th>\n",
       "      <th>sha256</th>\n",
       "      <th>first_submission_date</th>\n",
       "      <th>family</th>\n",
       "    </tr>\n",
       "  </thead>\n",
       "  <tbody>\n",
       "    <tr>\n",
       "      <th>0</th>\n",
       "      <td>98f8e26e12b978102fa39c197f300ebe5fe535617737d5...</td>\n",
       "      <td>1630575593</td>\n",
       "      <td>tnega</td>\n",
       "    </tr>\n",
       "    <tr>\n",
       "      <th>1</th>\n",
       "      <td>7b2999ffadbc3b5b5c5e94145ca4e2f8de66ac1e3ddd52...</td>\n",
       "      <td>1629375559</td>\n",
       "      <td>quasar</td>\n",
       "    </tr>\n",
       "    <tr>\n",
       "      <th>2</th>\n",
       "      <td>e7569d494fe00be04ef6c9fcc5e54720c0df623b08e79d...</td>\n",
       "      <td>1362057319</td>\n",
       "      <td>pasta</td>\n",
       "    </tr>\n",
       "    <tr>\n",
       "      <th>3</th>\n",
       "      <td>1ed60c04f572b6acb9f64c31db55ef5c6b5465bd4da1eb...</td>\n",
       "      <td>1630624233</td>\n",
       "      <td>cjishu</td>\n",
       "    </tr>\n",
       "    <tr>\n",
       "      <th>4</th>\n",
       "      <td>4c4aaff20a57213d9a786e56ad22f1eaa94694a2f1042b...</td>\n",
       "      <td>1592186154</td>\n",
       "      <td>kingsoft</td>\n",
       "    </tr>\n",
       "  </tbody>\n",
       "</table>\n",
       "</div>"
      ],
      "text/plain": [
       "                                              sha256  first_submission_date  \\\n",
       "0  98f8e26e12b978102fa39c197f300ebe5fe535617737d5...             1630575593   \n",
       "1  7b2999ffadbc3b5b5c5e94145ca4e2f8de66ac1e3ddd52...             1629375559   \n",
       "2  e7569d494fe00be04ef6c9fcc5e54720c0df623b08e79d...             1362057319   \n",
       "3  1ed60c04f572b6acb9f64c31db55ef5c6b5465bd4da1eb...             1630624233   \n",
       "4  4c4aaff20a57213d9a786e56ad22f1eaa94694a2f1042b...             1592186154   \n",
       "\n",
       "     family  \n",
       "0     tnega  \n",
       "1    quasar  \n",
       "2     pasta  \n",
       "3    cjishu  \n",
       "4  kingsoft  "
      ]
     },
     "execution_count": 53,
     "metadata": {},
     "output_type": "execute_result"
    }
   ],
   "source": [
    "#distinct_families = df['family'].unique()\n",
    "#for family in distinct_families:\n",
    "#    df_family = df[df['family'] == family]\n",
    "#    #pd.DataFrame.hist(df_family,)\n",
    "#    sns.displot(df_family, x=\"first_submission_date\", kde=True)\n",
    "df.head()"
   ]
  },
  {
   "cell_type": "code",
   "execution_count": 72,
   "id": "e52b859e-da8b-41ae-9305-95979e79665a",
   "metadata": {},
   "outputs": [
    {
     "name": "stdout",
     "output_type": "stream",
     "text": [
      "['tnega' 'quasar' 'pasta' 'cjishu' 'kingsoft' 'webcompanion' 'staser'\n",
      " 'racealer' 'lydra' 'schoolboy']\n"
     ]
    },
    {
     "data": {
      "text/plain": [
       "<Axes: xlabel='first_submission_date', ylabel='family'>"
      ]
     },
     "execution_count": 72,
     "metadata": {},
     "output_type": "execute_result"
    },
    {
     "data": {
      "image/png": "[encoded data removed]",
      "text/plain": [
       "<Figure size 640x480 with 1 Axes>"
      ]
     },
     "metadata": {},
     "output_type": "display_data"
    }
   ],
   "source": [
    "from datetime import timedelta\n",
    "\n",
    "df1 = df.copy()\n",
    "\n",
    "families = df1['family'].unique()[:10]\n",
    "print(families)\n",
    "\n",
    "df1 = df1[df1['family'].isin(families)]\n",
    "\n",
    "df1['first_submission_date'] = df1['first_submission_date'].apply(lambda t: pd.to_datetime(t, unit='s'))\n",
    "df1['first_submission_date'] = df1['first_submission_date'].dt.to_period(\"6M\")\n",
    "\n",
    "df1['first_submission_date'] = df1['first_submission_date'].apply(lambda t: t.dt.year.astype(str) + 'S' +\n",
    "                                                                            np.where(t.date.dt.quarter.gt(2), 2, 1).astype(str)\n",
    "                                                                  )\n",
    "\n",
    "sns.boxplot(x=\"first_submission_date\", y=\"family\", hue='first_submission_date', data=df1, width=0.6)\n"
   ]
  },
  {
   "cell_type": "code",
   "execution_count": 73,
   "id": "31afd711-c5b4-4a96-a453-8e79b81aa14e",
   "metadata": {},
   "outputs": [
    {
     "data": {
      "text/html": [
       "<div>\n",
       "<style scoped>\n",
       "    .dataframe tbody tr th:only-of-type {\n",
       "        vertical-align: middle;\n",
       "    }\n",
       "\n",
       "    .dataframe tbody tr th {\n",
       "        vertical-align: top;\n",
       "    }\n",
       "\n",
       "    .dataframe thead th {\n",
       "        text-align: right;\n",
       "    }\n",
       "</style>\n",
       "<table border=\"1\" class=\"dataframe\">\n",
       "  <thead>\n",
       "    <tr style=\"text-align: right;\">\n",
       "      <th></th>\n",
       "      <th>sha256</th>\n",
       "      <th>first_submission_date</th>\n",
       "      <th>family</th>\n",
       "    </tr>\n",
       "  </thead>\n",
       "  <tbody>\n",
       "    <tr>\n",
       "      <th>0</th>\n",
       "      <td>98f8e26e12b978102fa39c197f300ebe5fe535617737d5...</td>\n",
       "      <td>2021-09</td>\n",
       "      <td>tnega</td>\n",
       "    </tr>\n",
       "    <tr>\n",
       "      <th>1</th>\n",
       "      <td>7b2999ffadbc3b5b5c5e94145ca4e2f8de66ac1e3ddd52...</td>\n",
       "      <td>2021-08</td>\n",
       "      <td>quasar</td>\n",
       "    </tr>\n",
       "    <tr>\n",
       "      <th>2</th>\n",
       "      <td>e7569d494fe00be04ef6c9fcc5e54720c0df623b08e79d...</td>\n",
       "      <td>2013-02</td>\n",
       "      <td>pasta</td>\n",
       "    </tr>\n",
       "    <tr>\n",
       "      <th>3</th>\n",
       "      <td>1ed60c04f572b6acb9f64c31db55ef5c6b5465bd4da1eb...</td>\n",
       "      <td>2021-09</td>\n",
       "      <td>cjishu</td>\n",
       "    </tr>\n",
       "    <tr>\n",
       "      <th>4</th>\n",
       "      <td>4c4aaff20a57213d9a786e56ad22f1eaa94694a2f1042b...</td>\n",
       "      <td>2020-06</td>\n",
       "      <td>kingsoft</td>\n",
       "    </tr>\n",
       "  </tbody>\n",
       "</table>\n",
       "</div>"
      ],
      "text/plain": [
       "                                              sha256 first_submission_date  \\\n",
       "0  98f8e26e12b978102fa39c197f300ebe5fe535617737d5...               2021-09   \n",
       "1  7b2999ffadbc3b5b5c5e94145ca4e2f8de66ac1e3ddd52...               2021-08   \n",
       "2  e7569d494fe00be04ef6c9fcc5e54720c0df623b08e79d...               2013-02   \n",
       "3  1ed60c04f572b6acb9f64c31db55ef5c6b5465bd4da1eb...               2021-09   \n",
       "4  4c4aaff20a57213d9a786e56ad22f1eaa94694a2f1042b...               2020-06   \n",
       "\n",
       "     family  \n",
       "0     tnega  \n",
       "1    quasar  \n",
       "2     pasta  \n",
       "3    cjishu  \n",
       "4  kingsoft  "
      ]
     },
     "execution_count": 73,
     "metadata": {},
     "output_type": "execute_result"
    }
   ],
   "source": [
    "df1.head()\n"
   ]
  },
  {
   "cell_type": "code",
   "execution_count": null,
   "id": "c9a1112c-40ff-48b8-abc2-874af1b43c86",
   "metadata": {},
   "outputs": [],
   "source": []
  }
 ],
 "metadata": {
  "kernelspec": {
   "display_name": "myenv",
   "language": "python",
   "name": "myenv"
  },
  "language_info": {
   "codemirror_mode": {
    "name": "ipython",
    "version": 3
   },
   "file_extension": ".py",
   "mimetype": "text/x-python",
   "name": "python",
   "nbconvert_exporter": "python",
   "pygments_lexer": "ipython3",
   "version": "3.11.6"
  }
 },
 "nbformat": 4,
 "nbformat_minor": 5
}
