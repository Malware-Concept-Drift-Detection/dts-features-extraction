{
 "cells": [
  {
   "cell_type": "code",
   "execution_count": 1,
   "id": "41625c44-786b-4ff0-9342-ce4dd17a09e0",
   "metadata": {
    "ExecuteTime": {
     "end_time": "2024-02-19T15:11:45.823797788Z",
     "start_time": "2024-02-19T15:11:45.819221158Z"
    }
   },
   "outputs": [],
   "source": [
    "import gc\n",
    "import pandas as pd"
   ]
  },
  {
   "cell_type": "code",
   "execution_count": 2,
   "outputs": [],
   "source": [
    "from multiprocessing import Pool\n",
    "\n",
    "def f(chunk):\n",
    "    gc.collect()\n",
    "    return pd.json_normalize(chunk.to_dict('records'))\n",
    "\n",
    "# Open VT reports and convert it to a DataFrame\n",
    "def extract_reports(file_path) -> pd.DataFrame:\n",
    "    chunks = pd.read_json(file_path, lines=True, orient='records', chunksize=1000)\n",
    "    \n",
    "    arr = []\n",
    "    for k, chunk in enumerate(chunks):\n",
    "        print(k)\n",
    "        for i, report in chunk.iterrows():\n",
    "            arr.append(pd.json_normalize(report))#.to_csv(f\"normalized_reports/{k}_{i}.csv\"))\n",
    "        \n",
    "    return pd.concat(arr)\n",
    "    # return pd.concat([\n",
    "    #     f(chunk) for chunk in chunks for _, report in chunk.iterrows()\n",
    "    # ])\n",
    "\n",
    "def extract_reports1(file_path) -> pd.DataFrame:\n",
    "    chunks = [report for chunk in pd.read_json(file_path, lines=True, orient='records', chunksize=10000) \n",
    "              for _, report in chunk.iterrows()]\n",
    "    chunks = chunks[:3]\n",
    "    with Pool(5) as p:\n",
    "        return pd.concat(p.map(lambda report: pd.json_normalize(report), chunks))\n",
    "    \n",
    "def extract_reports2(file_path) -> pd.DataFrame:\n",
    "    chunks = pd.read_json(file_path, lines=True, orient='records', chunksize=1000)\n",
    "    for k, chunk in enumerate(chunks):\n",
    "        arr = []\n",
    "        print(k)\n",
    "        if k >= 30:\n",
    "            for i, report in chunk.iterrows():\n",
    "                arr.append(pd.json_normalize(report))\n",
    "            pd.concat(arr).to_csv(f\"normalized_reports/{k}.csv\", encoding=\"utf-16\")\n",
    "            gc.collect()\n",
    "\n",
    "    #return pd.concat(arr)\n",
    "    # return pd.concat([\n",
    "    #     f(chunk) for chunk in chunks for _, report in chunk.iterrows()\n",
    "    # ])\n"
   ],
   "metadata": {
    "collapsed": false,
    "ExecuteTime": {
     "start_time": "2024-02-19T15:02:41.157433918Z"
    }
   },
   "id": "8f135bca-3024-4118-85ac-367ab46a981a"
  },
  {
   "cell_type": "code",
   "execution_count": 4,
   "outputs": [
    {
     "name": "stdout",
     "output_type": "stream",
     "text": [
      "0\n",
      "1\n",
      "2\n",
      "3\n",
      "4\n",
      "5\n",
      "6\n",
      "7\n",
      "8\n",
      "9\n",
      "10\n",
      "11\n",
      "12\n",
      "13\n",
      "14\n",
      "15\n",
      "16\n",
      "17\n",
      "18\n",
      "19\n",
      "20\n",
      "21\n",
      "22\n",
      "23\n",
      "24\n",
      "25\n",
      "26\n",
      "27\n",
      "28\n",
      "29\n",
      "30\n",
      "31\n",
      "32\n",
      "33\n",
      "34\n",
      "35\n",
      "36\n",
      "37\n",
      "38\n",
      "39\n",
      "40\n",
      "41\n",
      "42\n",
      "43\n",
      "44\n",
      "45\n",
      "46\n",
      "47\n",
      "48\n",
      "49\n",
      "50\n",
      "51\n",
      "52\n",
      "53\n",
      "54\n",
      "55\n",
      "56\n",
      "57\n",
      "58\n",
      "59\n",
      "60\n",
      "61\n",
      "62\n",
      "63\n",
      "64\n",
      "65\n",
      "66\n"
     ]
    },
    {
     "ename": "AttributeError",
     "evalue": "'NoneType' object has no attribute 'head'",
     "output_type": "error",
     "traceback": [
      "\u001B[0;31m---------------------------------------------------------------------------\u001B[0m",
      "\u001B[0;31mAttributeError\u001B[0m                            Traceback (most recent call last)",
      "Cell \u001B[0;32mIn[4], line 2\u001B[0m\n\u001B[1;32m      1\u001B[0m reports_path \u001B[38;5;241m=\u001B[39m \u001B[38;5;124m'\u001B[39m\u001B[38;5;124m./vt_reports/vt_reports67k.jsons\u001B[39m\u001B[38;5;124m'\u001B[39m\n\u001B[0;32m----> 2\u001B[0m \u001B[43mextract_reports2\u001B[49m\u001B[43m(\u001B[49m\u001B[43mfile_path\u001B[49m\u001B[38;5;241;43m=\u001B[39;49m\u001B[43mreports_path\u001B[49m\u001B[43m)\u001B[49m\u001B[38;5;241;43m.\u001B[39;49m\u001B[43mhead\u001B[49m()\n",
      "\u001B[0;31mAttributeError\u001B[0m: 'NoneType' object has no attribute 'head'"
     ]
    }
   ],
   "source": [
    "reports_path = './vt_reports/vt_reports67k.jsons'\n",
    "extract_reports2(file_path=reports_path).head()"
   ],
   "metadata": {
    "collapsed": false,
    "ExecuteTime": {
     "start_time": "2024-02-19T14:35:53.287471069Z"
    }
   },
   "id": "aa786b9e-f1ea-4efa-912c-b37fffeb44a0"
  },
  {
   "cell_type": "code",
   "execution_count": 2,
   "outputs": [
    {
     "name": "stdout",
     "output_type": "stream",
     "text": [
      "0\n",
      "1\n",
      "2\n",
      "3\n",
      "4\n",
      "5\n",
      "6\n",
      "7\n",
      "8\n",
      "9\n",
      "10\n",
      "11\n",
      "12\n",
      "13\n",
      "14\n",
      "15\n",
      "16\n",
      "17\n",
      "18\n",
      "19\n",
      "20\n",
      "21\n",
      "22\n",
      "23\n",
      "24\n",
      "25\n",
      "26\n",
      "27\n",
      "28\n",
      "29\n",
      "30\n",
      "31\n",
      "32\n",
      "33\n",
      "34\n",
      "35\n",
      "36\n",
      "37\n",
      "38\n",
      "39\n",
      "40\n",
      "41\n",
      "42\n",
      "43\n",
      "44\n",
      "45\n",
      "46\n",
      "47\n",
      "48\n",
      "49\n",
      "50\n",
      "51\n",
      "52\n",
      "53\n",
      "54\n",
      "55\n",
      "56\n",
      "57\n",
      "58\n",
      "59\n",
      "60\n",
      "61\n",
      "62\n",
      "63\n"
     ]
    },
    {
     "data": {
      "text/plain": "   Unnamed: 0 attributes.type_description   \n0         0.0                   Win32 EXE  \\\n1         0.0                   Win32 EXE   \n2         0.0                   Win32 EXE   \n3         0.0                   Win32 EXE   \n4         0.0                   Win32 EXE   \n\n                                     attributes.tlsh   \n0  T1362633348AD0C038E6BB55F47D79E67E642C3E328B74...  \\\n1  T132D52341FE4964B2D2B21830447A9B612C7DBD201B2D...   \n2  T1A9F47D26F2D08437D1772B3C9C5BA6989C3EBD106E38...   \n3  T1AE35AE13FB82A0B2EAD6017862FA977F5C3AE6144726...   \n4  T1A01833D7BEC08201D9E346FD94FAB07CE5C0C9894967...   \n\n                              attributes.vhash attributes.exiftool.MIMEType   \n0                          046046655d755az6e!z     application/octet-stream  \\\n1                      026066655d1d15556az8d!z     application/octet-stream   \n2     0750866d5c0d1c0515656038z2c7z3035z13z4fz     application/octet-stream   \n3   016056655d55156228z4ahz20400134z1b1e008c1z     application/octet-stream   \n4  08703e0f7d601013z11z67z101013z10101010101bz     application/octet-stream   \n\n  attributes.exiftool.Subsystem      attributes.exiftool.MachineType   \n0                   Windows GUI  Intel 386 or later, and compatibles  \\\n1                   Windows GUI  Intel 386 or later, and compatibles   \n2                   Windows GUI  Intel 386 or later, and compatibles   \n3                   Windows GUI  Intel 386 or later, and compatibles   \n4                   Windows GUI  Intel 386 or later, and compatibles   \n\n  attributes.exiftool.TimeStamp attributes.exiftool.FileType   \n0     2020:03:11 00:45:27+00:00                    Win32 EXE  \\\n1     2021:06:11 09:16:47+00:00                    Win32 EXE   \n2     1992:06:19 22:22:17+00:00                    Win32 EXE   \n3     2021:08:26 09:02:20+00:00                    Win32 EXE   \n4     1970:01:16 02:14:24+00:00                    Win32 EXE   \n\n  attributes.exiftool.PEType  ...   \n0                       PE32  ...  \\\n1                       PE32  ...   \n2                       PE32  ...   \n3                       PE32  ...   \n4                       PE32  ...   \n\n   attributes.pe_info.resource_types.JUGUDANEPIKOTIGODIMUWU   \n0                                                NaN         \\\n1                                                NaN          \n2                                                NaN          \n3                                                NaN          \n4                                                NaN          \n\n  attributes.pe_info.resource_types.ISUE   \n0                                    NaN  \\\n1                                    NaN   \n2                                    NaN   \n3                                    NaN   \n4                                    NaN   \n\n  attributes.pe_info.resource_types.M7BBM42   \n0                                       NaN  \\\n1                                       NaN   \n2                                       NaN   \n3                                       NaN   \n4                                       NaN   \n\n  attributes.pe_info.resource_types.qQT730M   \n0                                       NaN  \\\n1                                       NaN   \n2                                       NaN   \n3                                       NaN   \n4                                       NaN   \n\n   attributes.pe_info.resource_types.r77ky   \n0                                      NaN  \\\n1                                      NaN   \n2                                      NaN   \n3                                      NaN   \n4                                      NaN   \n\n   attributes.pe_info.resource_types.RT_RTF   \n0                                       NaN  \\\n1                                       NaN   \n2                                       NaN   \n3                                       NaN   \n4                                       NaN   \n\n   attributes.pe_info.resource_types.2134   \n0                                     NaN  \\\n1                                     NaN   \n2                                     NaN   \n3                                     NaN   \n4                                     NaN   \n\n  attributes.pe_info.resource_types.2135   \n0                                    NaN  \\\n1                                    NaN   \n2                                    NaN   \n3                                    NaN   \n4                                    NaN   \n\n  attributes.pe_info.resource_types.3P   attributes.pe_info.resource_types.41  \n0                                   NaN                                   NaN  \n1                                   NaN                                   NaN  \n2                                   NaN                                   NaN  \n3                                   NaN                                   NaN  \n4                                   NaN                                   NaN  \n\n[5 rows x 3213 columns]",
      "text/html": "<div>\n<style scoped>\n    .dataframe tbody tr th:only-of-type {\n        vertical-align: middle;\n    }\n\n    .dataframe tbody tr th {\n        vertical-align: top;\n    }\n\n    .dataframe thead th {\n        text-align: right;\n    }\n</style>\n<table border=\"1\" class=\"dataframe\">\n  <thead>\n    <tr style=\"text-align: right;\">\n      <th></th>\n      <th>Unnamed: 0</th>\n      <th>attributes.type_description</th>\n      <th>attributes.tlsh</th>\n      <th>attributes.vhash</th>\n      <th>attributes.exiftool.MIMEType</th>\n      <th>attributes.exiftool.Subsystem</th>\n      <th>attributes.exiftool.MachineType</th>\n      <th>attributes.exiftool.TimeStamp</th>\n      <th>attributes.exiftool.FileType</th>\n      <th>attributes.exiftool.PEType</th>\n      <th>...</th>\n      <th>attributes.pe_info.resource_types.JUGUDANEPIKOTIGODIMUWU</th>\n      <th>attributes.pe_info.resource_types.ISUE</th>\n      <th>attributes.pe_info.resource_types.M7BBM42</th>\n      <th>attributes.pe_info.resource_types.qQT730M</th>\n      <th>attributes.pe_info.resource_types.r77ky</th>\n      <th>attributes.pe_info.resource_types.RT_RTF</th>\n      <th>attributes.pe_info.resource_types.2134</th>\n      <th>attributes.pe_info.resource_types.2135</th>\n      <th>attributes.pe_info.resource_types.3P</th>\n      <th>attributes.pe_info.resource_types.41</th>\n    </tr>\n  </thead>\n  <tbody>\n    <tr>\n      <th>0</th>\n      <td>0.0</td>\n      <td>Win32 EXE</td>\n      <td>T1362633348AD0C038E6BB55F47D79E67E642C3E328B74...</td>\n      <td>046046655d755az6e!z</td>\n      <td>application/octet-stream</td>\n      <td>Windows GUI</td>\n      <td>Intel 386 or later, and compatibles</td>\n      <td>2020:03:11 00:45:27+00:00</td>\n      <td>Win32 EXE</td>\n      <td>PE32</td>\n      <td>...</td>\n      <td>NaN</td>\n      <td>NaN</td>\n      <td>NaN</td>\n      <td>NaN</td>\n      <td>NaN</td>\n      <td>NaN</td>\n      <td>NaN</td>\n      <td>NaN</td>\n      <td>NaN</td>\n      <td>NaN</td>\n    </tr>\n    <tr>\n      <th>1</th>\n      <td>0.0</td>\n      <td>Win32 EXE</td>\n      <td>T132D52341FE4964B2D2B21830447A9B612C7DBD201B2D...</td>\n      <td>026066655d1d15556az8d!z</td>\n      <td>application/octet-stream</td>\n      <td>Windows GUI</td>\n      <td>Intel 386 or later, and compatibles</td>\n      <td>2021:06:11 09:16:47+00:00</td>\n      <td>Win32 EXE</td>\n      <td>PE32</td>\n      <td>...</td>\n      <td>NaN</td>\n      <td>NaN</td>\n      <td>NaN</td>\n      <td>NaN</td>\n      <td>NaN</td>\n      <td>NaN</td>\n      <td>NaN</td>\n      <td>NaN</td>\n      <td>NaN</td>\n      <td>NaN</td>\n    </tr>\n    <tr>\n      <th>2</th>\n      <td>0.0</td>\n      <td>Win32 EXE</td>\n      <td>T1A9F47D26F2D08437D1772B3C9C5BA6989C3EBD106E38...</td>\n      <td>0750866d5c0d1c0515656038z2c7z3035z13z4fz</td>\n      <td>application/octet-stream</td>\n      <td>Windows GUI</td>\n      <td>Intel 386 or later, and compatibles</td>\n      <td>1992:06:19 22:22:17+00:00</td>\n      <td>Win32 EXE</td>\n      <td>PE32</td>\n      <td>...</td>\n      <td>NaN</td>\n      <td>NaN</td>\n      <td>NaN</td>\n      <td>NaN</td>\n      <td>NaN</td>\n      <td>NaN</td>\n      <td>NaN</td>\n      <td>NaN</td>\n      <td>NaN</td>\n      <td>NaN</td>\n    </tr>\n    <tr>\n      <th>3</th>\n      <td>0.0</td>\n      <td>Win32 EXE</td>\n      <td>T1AE35AE13FB82A0B2EAD6017862FA977F5C3AE6144726...</td>\n      <td>016056655d55156228z4ahz20400134z1b1e008c1z</td>\n      <td>application/octet-stream</td>\n      <td>Windows GUI</td>\n      <td>Intel 386 or later, and compatibles</td>\n      <td>2021:08:26 09:02:20+00:00</td>\n      <td>Win32 EXE</td>\n      <td>PE32</td>\n      <td>...</td>\n      <td>NaN</td>\n      <td>NaN</td>\n      <td>NaN</td>\n      <td>NaN</td>\n      <td>NaN</td>\n      <td>NaN</td>\n      <td>NaN</td>\n      <td>NaN</td>\n      <td>NaN</td>\n      <td>NaN</td>\n    </tr>\n    <tr>\n      <th>4</th>\n      <td>0.0</td>\n      <td>Win32 EXE</td>\n      <td>T1A01833D7BEC08201D9E346FD94FAB07CE5C0C9894967...</td>\n      <td>08703e0f7d601013z11z67z101013z10101010101bz</td>\n      <td>application/octet-stream</td>\n      <td>Windows GUI</td>\n      <td>Intel 386 or later, and compatibles</td>\n      <td>1970:01:16 02:14:24+00:00</td>\n      <td>Win32 EXE</td>\n      <td>PE32</td>\n      <td>...</td>\n      <td>NaN</td>\n      <td>NaN</td>\n      <td>NaN</td>\n      <td>NaN</td>\n      <td>NaN</td>\n      <td>NaN</td>\n      <td>NaN</td>\n      <td>NaN</td>\n      <td>NaN</td>\n      <td>NaN</td>\n    </tr>\n  </tbody>\n</table>\n<p>5 rows × 3213 columns</p>\n</div>"
     },
     "execution_count": 2,
     "metadata": {},
     "output_type": "execute_result"
    }
   ],
   "source": [
    "dfs = []\n",
    "for i in range(64):\n",
    "    dfs.append(pd.read_csv(f\"normalized_reports/{i}.csv\", encoding=\"utf-8\" if i < 30 else \"utf-16\"))\n",
    "df = pd.concat(dfs)\n",
    "df.head()"
   ],
   "metadata": {
    "collapsed": false,
    "ExecuteTime": {
     "start_time": "2024-02-19T15:12:28.862044254Z"
    }
   },
   "id": "27a7f3e572ec9cfe"
  },
  {
   "cell_type": "code",
   "execution_count": null,
   "outputs": [],
   "source": [],
   "metadata": {
    "collapsed": false
   },
   "id": "cdbcb773b033fa42"
  }
 ],
 "metadata": {
  "kernelspec": {
   "display_name": "concept_drift",
   "language": "python",
   "name": "concept_drift"
  },
  "language_info": {
   "codemirror_mode": {
    "name": "ipython",
    "version": 3
   },
   "file_extension": ".py",
   "mimetype": "text/x-python",
   "name": "python",
   "nbconvert_exporter": "python",
   "pygments_lexer": "ipython3",
   "version": "3.11.6"
  }
 },
 "nbformat": 4,
 "nbformat_minor": 5
}
