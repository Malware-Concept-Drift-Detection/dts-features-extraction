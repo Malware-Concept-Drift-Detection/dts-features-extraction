{
 "cells": [
  {
   "cell_type": "code",
   "execution_count": 2,
   "id": "41625c44-786b-4ff0-9342-ce4dd17a09e0",
   "metadata": {
    "ExecuteTime": {
     "end_time": "2024-02-19T08:25:09.539417828Z",
     "start_time": "2024-02-19T08:25:09.530197305Z"
    }
   },
   "outputs": [],
   "source": [
    "import gc\n",
    "import pandas as pd"
   ]
  },
  {
   "cell_type": "code",
   "execution_count": 3,
   "outputs": [
    {
     "name": "stdout",
     "output_type": "stream",
     "text": [
      "Number of CPU cores: 8, max number of IO processes: 17\n"
     ]
    }
   ],
   "source": [
    "import os\n",
    "# Get the number of CPU cores\n",
    "num_cores = os.cpu_count()\n",
    "max_proc = num_cores * 2 + 1\n",
    "# Print the result\n",
    "print(f\"Number of CPU cores: {num_cores}, max number of IO processes: {max_proc}\")"
   ],
   "metadata": {
    "collapsed": false,
    "ExecuteTime": {
     "end_time": "2024-02-19T08:25:10.231846719Z",
     "start_time": "2024-02-19T08:25:10.225252007Z"
    }
   },
   "id": "e8be4ee8c421c8ee"
  },
  {
   "cell_type": "code",
   "execution_count": 4,
   "id": "8f135bca-3024-4118-85ac-367ab46a981a",
   "metadata": {
    "ExecuteTime": {
     "end_time": "2024-02-19T08:25:10.964298124Z",
     "start_time": "2024-02-19T08:25:10.955089616Z"
    }
   },
   "outputs": [],
   "source": [
    "from multiprocessing import Pool\n",
    "\n",
    "def f(chunk):\n",
    "    gc.collect()\n",
    "    return pd.json_normalize(chunk.to_dict('records'))\n",
    "\n",
    "# Open VT reports and convert it to a DataFrame\n",
    "def extract_reports(file_path) -> pd.DataFrame:\n",
    "    chunks = pd.read_json(file_path, lines=True, orient='records', chunksize=100)\n",
    "    return pd.concat([\n",
    "        f(chunk) for chunk in chunks for _, report in chunk.iterrows()\n",
    "    ])\n",
    "\n",
    "# def extract_reports(file_path) -> pd.DataFrame:\n",
    "#     chunks = [report for chunk in pd.read_json(file_path, lines=True, orient='records', chunksize=1000) \n",
    "#               for _, report in chunk.iterrows()]\n",
    "#     chunks = chunks[:3]\n",
    "#     with Pool(5) as p:\n",
    "#         return pd.concat(p.map(lambda report: pd.json_normalize(report), chunks))\n",
    "#     "
   ]
  },
  {
   "cell_type": "code",
   "execution_count": null,
   "id": "aa786b9e-f1ea-4efa-912c-b37fffeb44a0",
   "metadata": {
    "is_executing": true,
    "ExecuteTime": {
     "start_time": "2024-02-19T08:25:12.710608045Z"
    }
   },
   "outputs": [],
   "source": [
    "reports_path = './vt_reports/vt_reports67k.jsons'\n",
    "reports = extract_reports(file_path=reports_path).head()"
   ]
  },
  {
   "cell_type": "code",
   "execution_count": null,
   "id": "74743895-f376-4014-9470-0490564d51af",
   "metadata": {
    "ExecuteTime": {
     "start_time": "2024-02-18T08:01:27.806382608Z"
    }
   },
   "outputs": [],
   "source": [
    "def extract_malware_family(file_path) -> pd.DataFrame:\n",
    "    df = pd.read_csv(file_path, usecols=['SHA256', 'FAMILY'])\n",
    "    return df.rename(str.lower, axis='columns')"
   ]
  },
  {
   "cell_type": "code",
   "execution_count": 8,
   "id": "0e238386-5986-42ea-bc45-c576826647a4",
   "metadata": {
    "ExecuteTime": {
     "end_time": "2024-02-19T06:41:35.702016775Z",
     "start_time": "2024-02-19T06:41:35.573759240Z"
    }
   },
   "outputs": [
    {
     "ename": "ValueError",
     "evalue": "Expected object or value",
     "output_type": "error",
     "traceback": [
      "\u001B[0;31m---------------------------------------------------------------------------\u001B[0m",
      "\u001B[0;31mValueError\u001B[0m                                Traceback (most recent call last)",
      "Cell \u001B[0;32mIn[8], line 2\u001B[0m\n\u001B[1;32m      1\u001B[0m malware_families_path \u001B[38;5;241m=\u001B[39m \u001B[38;5;124m\"\u001B[39m\u001B[38;5;124m./vt/siggregator_all_samples_no_fuzzy_hash.csv\u001B[39m\u001B[38;5;124m\"\u001B[39m\n\u001B[0;32m----> 2\u001B[0m df_malware_families \u001B[38;5;241m=\u001B[39m \u001B[43mextract_reports\u001B[49m\u001B[43m(\u001B[49m\u001B[43mfile_path\u001B[49m\u001B[38;5;241;43m=\u001B[39;49m\u001B[43mmalware_families_path\u001B[49m\u001B[43m)\u001B[49m\n\u001B[1;32m      3\u001B[0m df_malware_families\u001B[38;5;241m.\u001B[39mhead()\n",
      "Cell \u001B[0;32mIn[6], line 6\u001B[0m, in \u001B[0;36mextract_reports\u001B[0;34m(file_path)\u001B[0m\n\u001B[1;32m      4\u001B[0m \u001B[38;5;28;01mdef\u001B[39;00m \u001B[38;5;21mextract_reports\u001B[39m(file_path) \u001B[38;5;241m-\u001B[39m\u001B[38;5;241m>\u001B[39m pd\u001B[38;5;241m.\u001B[39mDataFrame:\n\u001B[1;32m      5\u001B[0m     chunks \u001B[38;5;241m=\u001B[39m pd\u001B[38;5;241m.\u001B[39mread_json(file_path, lines\u001B[38;5;241m=\u001B[39m\u001B[38;5;28;01mTrue\u001B[39;00m, orient\u001B[38;5;241m=\u001B[39m\u001B[38;5;124m'\u001B[39m\u001B[38;5;124mrecords\u001B[39m\u001B[38;5;124m'\u001B[39m, chunksize\u001B[38;5;241m=\u001B[39m\u001B[38;5;241m1000\u001B[39m)\n\u001B[0;32m----> 6\u001B[0m     \u001B[38;5;28;01mreturn\u001B[39;00m pd\u001B[38;5;241m.\u001B[39mconcat(\u001B[43m[\u001B[49m\n\u001B[1;32m      7\u001B[0m \u001B[43m        \u001B[49m\u001B[43mpd\u001B[49m\u001B[38;5;241;43m.\u001B[39;49m\u001B[43mjson_normalize\u001B[49m\u001B[43m(\u001B[49m\u001B[43mchunk\u001B[49m\u001B[38;5;241;43m.\u001B[39;49m\u001B[43mto_dict\u001B[49m\u001B[43m(\u001B[49m\u001B[38;5;124;43m'\u001B[39;49m\u001B[38;5;124;43mrecords\u001B[39;49m\u001B[38;5;124;43m'\u001B[39;49m\u001B[43m)\u001B[49m\u001B[43m)\u001B[49m\u001B[43m \u001B[49m\u001B[38;5;28;43;01mfor\u001B[39;49;00m\u001B[43m \u001B[49m\u001B[43mchunk\u001B[49m\u001B[43m \u001B[49m\u001B[38;5;129;43;01min\u001B[39;49;00m\u001B[43m \u001B[49m\u001B[43mchunks\u001B[49m\u001B[43m \u001B[49m\u001B[38;5;28;43;01mfor\u001B[39;49;00m\u001B[43m \u001B[49m\u001B[43m_\u001B[49m\u001B[43m,\u001B[49m\u001B[43m \u001B[49m\u001B[43mreport\u001B[49m\u001B[43m \u001B[49m\u001B[38;5;129;43;01min\u001B[39;49;00m\u001B[43m \u001B[49m\u001B[43mchunk\u001B[49m\u001B[38;5;241;43m.\u001B[39;49m\u001B[43miterrows\u001B[49m\u001B[43m(\u001B[49m\u001B[43m)\u001B[49m\n\u001B[1;32m      8\u001B[0m \u001B[43m    \u001B[49m\u001B[43m]\u001B[49m)\n",
      "Cell \u001B[0;32mIn[6], line 6\u001B[0m, in \u001B[0;36m<listcomp>\u001B[0;34m(.0)\u001B[0m\n\u001B[1;32m      4\u001B[0m \u001B[38;5;28;01mdef\u001B[39;00m \u001B[38;5;21mextract_reports\u001B[39m(file_path) \u001B[38;5;241m-\u001B[39m\u001B[38;5;241m>\u001B[39m pd\u001B[38;5;241m.\u001B[39mDataFrame:\n\u001B[1;32m      5\u001B[0m     chunks \u001B[38;5;241m=\u001B[39m pd\u001B[38;5;241m.\u001B[39mread_json(file_path, lines\u001B[38;5;241m=\u001B[39m\u001B[38;5;28;01mTrue\u001B[39;00m, orient\u001B[38;5;241m=\u001B[39m\u001B[38;5;124m'\u001B[39m\u001B[38;5;124mrecords\u001B[39m\u001B[38;5;124m'\u001B[39m, chunksize\u001B[38;5;241m=\u001B[39m\u001B[38;5;241m1000\u001B[39m)\n\u001B[0;32m----> 6\u001B[0m     \u001B[38;5;28;01mreturn\u001B[39;00m pd\u001B[38;5;241m.\u001B[39mconcat(\u001B[43m[\u001B[49m\n\u001B[1;32m      7\u001B[0m \u001B[43m        \u001B[49m\u001B[43mpd\u001B[49m\u001B[38;5;241;43m.\u001B[39;49m\u001B[43mjson_normalize\u001B[49m\u001B[43m(\u001B[49m\u001B[43mchunk\u001B[49m\u001B[38;5;241;43m.\u001B[39;49m\u001B[43mto_dict\u001B[49m\u001B[43m(\u001B[49m\u001B[38;5;124;43m'\u001B[39;49m\u001B[38;5;124;43mrecords\u001B[39;49m\u001B[38;5;124;43m'\u001B[39;49m\u001B[43m)\u001B[49m\u001B[43m)\u001B[49m\u001B[43m \u001B[49m\u001B[38;5;28;43;01mfor\u001B[39;49;00m\u001B[43m \u001B[49m\u001B[43mchunk\u001B[49m\u001B[43m \u001B[49m\u001B[38;5;129;43;01min\u001B[39;49;00m\u001B[43m \u001B[49m\u001B[43mchunks\u001B[49m\u001B[43m \u001B[49m\u001B[38;5;28;43;01mfor\u001B[39;49;00m\u001B[43m \u001B[49m\u001B[43m_\u001B[49m\u001B[43m,\u001B[49m\u001B[43m \u001B[49m\u001B[43mreport\u001B[49m\u001B[43m \u001B[49m\u001B[38;5;129;43;01min\u001B[39;49;00m\u001B[43m \u001B[49m\u001B[43mchunk\u001B[49m\u001B[38;5;241;43m.\u001B[39;49m\u001B[43miterrows\u001B[49m\u001B[43m(\u001B[49m\u001B[43m)\u001B[49m\n\u001B[1;32m      8\u001B[0m \u001B[43m    \u001B[49m\u001B[43m]\u001B[49m)\n",
      "File \u001B[0;32m~/Desktop/uni/master/internship/concept_drift/.venv/lib/python3.11/site-packages/pandas/io/json/_json.py:1054\u001B[0m, in \u001B[0;36mJsonReader.__next__\u001B[0;34m(self)\u001B[0m\n\u001B[1;32m   1052\u001B[0m \u001B[38;5;28;01mexcept\u001B[39;00m \u001B[38;5;167;01mException\u001B[39;00m \u001B[38;5;28;01mas\u001B[39;00m ex:\n\u001B[1;32m   1053\u001B[0m     \u001B[38;5;28mself\u001B[39m\u001B[38;5;241m.\u001B[39mclose()\n\u001B[0;32m-> 1054\u001B[0m     \u001B[38;5;28;01mraise\u001B[39;00m ex\n\u001B[1;32m   1056\u001B[0m \u001B[38;5;28;01mif\u001B[39;00m \u001B[38;5;28mself\u001B[39m\u001B[38;5;241m.\u001B[39mdtype_backend \u001B[38;5;129;01mis\u001B[39;00m \u001B[38;5;129;01mnot\u001B[39;00m lib\u001B[38;5;241m.\u001B[39mno_default:\n\u001B[1;32m   1057\u001B[0m     \u001B[38;5;28;01mreturn\u001B[39;00m obj\u001B[38;5;241m.\u001B[39mconvert_dtypes(\n\u001B[1;32m   1058\u001B[0m         infer_objects\u001B[38;5;241m=\u001B[39m\u001B[38;5;28;01mFalse\u001B[39;00m, dtype_backend\u001B[38;5;241m=\u001B[39m\u001B[38;5;28mself\u001B[39m\u001B[38;5;241m.\u001B[39mdtype_backend\n\u001B[1;32m   1059\u001B[0m     )\n",
      "File \u001B[0;32m~/Desktop/uni/master/internship/concept_drift/.venv/lib/python3.11/site-packages/pandas/io/json/_json.py:1047\u001B[0m, in \u001B[0;36mJsonReader.__next__\u001B[0;34m(self)\u001B[0m\n\u001B[1;32m   1045\u001B[0m \u001B[38;5;28;01mtry\u001B[39;00m:\n\u001B[1;32m   1046\u001B[0m     lines_json \u001B[38;5;241m=\u001B[39m \u001B[38;5;28mself\u001B[39m\u001B[38;5;241m.\u001B[39m_combine_lines(lines)\n\u001B[0;32m-> 1047\u001B[0m     obj \u001B[38;5;241m=\u001B[39m \u001B[38;5;28;43mself\u001B[39;49m\u001B[38;5;241;43m.\u001B[39;49m\u001B[43m_get_object_parser\u001B[49m\u001B[43m(\u001B[49m\u001B[43mlines_json\u001B[49m\u001B[43m)\u001B[49m\n\u001B[1;32m   1049\u001B[0m     \u001B[38;5;66;03m# Make sure that the returned objects have the right index.\u001B[39;00m\n\u001B[1;32m   1050\u001B[0m     obj\u001B[38;5;241m.\u001B[39mindex \u001B[38;5;241m=\u001B[39m \u001B[38;5;28mrange\u001B[39m(\u001B[38;5;28mself\u001B[39m\u001B[38;5;241m.\u001B[39mnrows_seen, \u001B[38;5;28mself\u001B[39m\u001B[38;5;241m.\u001B[39mnrows_seen \u001B[38;5;241m+\u001B[39m \u001B[38;5;28mlen\u001B[39m(obj))\n",
      "File \u001B[0;32m~/Desktop/uni/master/internship/concept_drift/.venv/lib/python3.11/site-packages/pandas/io/json/_json.py:1001\u001B[0m, in \u001B[0;36mJsonReader._get_object_parser\u001B[0;34m(self, json)\u001B[0m\n\u001B[1;32m    999\u001B[0m obj \u001B[38;5;241m=\u001B[39m \u001B[38;5;28;01mNone\u001B[39;00m\n\u001B[1;32m   1000\u001B[0m \u001B[38;5;28;01mif\u001B[39;00m typ \u001B[38;5;241m==\u001B[39m \u001B[38;5;124m\"\u001B[39m\u001B[38;5;124mframe\u001B[39m\u001B[38;5;124m\"\u001B[39m:\n\u001B[0;32m-> 1001\u001B[0m     obj \u001B[38;5;241m=\u001B[39m \u001B[43mFrameParser\u001B[49m\u001B[43m(\u001B[49m\u001B[43mjson\u001B[49m\u001B[43m,\u001B[49m\u001B[43m \u001B[49m\u001B[38;5;241;43m*\u001B[39;49m\u001B[38;5;241;43m*\u001B[39;49m\u001B[43mkwargs\u001B[49m\u001B[43m)\u001B[49m\u001B[38;5;241;43m.\u001B[39;49m\u001B[43mparse\u001B[49m\u001B[43m(\u001B[49m\u001B[43m)\u001B[49m\n\u001B[1;32m   1003\u001B[0m \u001B[38;5;28;01mif\u001B[39;00m typ \u001B[38;5;241m==\u001B[39m \u001B[38;5;124m\"\u001B[39m\u001B[38;5;124mseries\u001B[39m\u001B[38;5;124m\"\u001B[39m \u001B[38;5;129;01mor\u001B[39;00m obj \u001B[38;5;129;01mis\u001B[39;00m \u001B[38;5;28;01mNone\u001B[39;00m:\n\u001B[1;32m   1004\u001B[0m     \u001B[38;5;28;01mif\u001B[39;00m \u001B[38;5;129;01mnot\u001B[39;00m \u001B[38;5;28misinstance\u001B[39m(dtype, \u001B[38;5;28mbool\u001B[39m):\n",
      "File \u001B[0;32m~/Desktop/uni/master/internship/concept_drift/.venv/lib/python3.11/site-packages/pandas/io/json/_json.py:1134\u001B[0m, in \u001B[0;36mParser.parse\u001B[0;34m(self)\u001B[0m\n\u001B[1;32m   1133\u001B[0m \u001B[38;5;28;01mdef\u001B[39;00m \u001B[38;5;21mparse\u001B[39m(\u001B[38;5;28mself\u001B[39m):\n\u001B[0;32m-> 1134\u001B[0m     \u001B[38;5;28;43mself\u001B[39;49m\u001B[38;5;241;43m.\u001B[39;49m\u001B[43m_parse\u001B[49m\u001B[43m(\u001B[49m\u001B[43m)\u001B[49m\n\u001B[1;32m   1136\u001B[0m     \u001B[38;5;28;01mif\u001B[39;00m \u001B[38;5;28mself\u001B[39m\u001B[38;5;241m.\u001B[39mobj \u001B[38;5;129;01mis\u001B[39;00m \u001B[38;5;28;01mNone\u001B[39;00m:\n\u001B[1;32m   1137\u001B[0m         \u001B[38;5;28;01mreturn\u001B[39;00m \u001B[38;5;28;01mNone\u001B[39;00m\n",
      "File \u001B[0;32m~/Desktop/uni/master/internship/concept_drift/.venv/lib/python3.11/site-packages/pandas/io/json/_json.py:1347\u001B[0m, in \u001B[0;36mFrameParser._parse\u001B[0;34m(self)\u001B[0m\n\u001B[1;32m   1344\u001B[0m     \u001B[38;5;28mself\u001B[39m\u001B[38;5;241m.\u001B[39mobj \u001B[38;5;241m=\u001B[39m parse_table_schema(json, precise_float\u001B[38;5;241m=\u001B[39m\u001B[38;5;28mself\u001B[39m\u001B[38;5;241m.\u001B[39mprecise_float)\n\u001B[1;32m   1345\u001B[0m \u001B[38;5;28;01melse\u001B[39;00m:\n\u001B[1;32m   1346\u001B[0m     \u001B[38;5;28mself\u001B[39m\u001B[38;5;241m.\u001B[39mobj \u001B[38;5;241m=\u001B[39m DataFrame(\n\u001B[0;32m-> 1347\u001B[0m         \u001B[43mloads\u001B[49m\u001B[43m(\u001B[49m\u001B[43mjson\u001B[49m\u001B[43m,\u001B[49m\u001B[43m \u001B[49m\u001B[43mprecise_float\u001B[49m\u001B[38;5;241;43m=\u001B[39;49m\u001B[38;5;28;43mself\u001B[39;49m\u001B[38;5;241;43m.\u001B[39;49m\u001B[43mprecise_float\u001B[49m\u001B[43m)\u001B[49m, dtype\u001B[38;5;241m=\u001B[39m\u001B[38;5;28;01mNone\u001B[39;00m\n\u001B[1;32m   1348\u001B[0m     )\n",
      "\u001B[0;31mValueError\u001B[0m: Expected object or value"
     ]
    }
   ],
   "source": [
    "malware_families_path = \"./vt/siggregator_all_samples_no_fuzzy_hash.csv\"\n",
    "df_malware_families = extract_reports(file_path=malware_families_path)\n",
    "df_malware_families.head()"
   ]
  },
  {
   "cell_type": "code",
   "execution_count": 6,
   "id": "c1c250ad-8ec6-4085-9939-d955fc5fe239",
   "metadata": {
    "ExecuteTime": {
     "end_time": "2024-02-14T13:50:33.059804487Z",
     "start_time": "2024-02-14T13:50:32.951297555Z"
    }
   },
   "outputs": [
    {
     "data": {
      "text/html": [
       "<div>\n",
       "<style scoped>\n",
       "    .dataframe tbody tr th:only-of-type {\n",
       "        vertical-align: middle;\n",
       "    }\n",
       "\n",
       "    .dataframe tbody tr th {\n",
       "        vertical-align: top;\n",
       "    }\n",
       "\n",
       "    .dataframe thead th {\n",
       "        text-align: right;\n",
       "    }\n",
       "</style>\n",
       "<table border=\"1\" class=\"dataframe\">\n",
       "  <thead>\n",
       "    <tr style=\"text-align: right;\">\n",
       "      <th></th>\n",
       "      <th>sha256</th>\n",
       "      <th>first_submission_date</th>\n",
       "      <th>family</th>\n",
       "    </tr>\n",
       "  </thead>\n",
       "  <tbody>\n",
       "    <tr>\n",
       "      <th>0</th>\n",
       "      <td>98f8e26e12b978102fa39c197f300ebe5fe535617737d5...</td>\n",
       "      <td>1630575593</td>\n",
       "      <td>tnega</td>\n",
       "    </tr>\n",
       "    <tr>\n",
       "      <th>1</th>\n",
       "      <td>7b2999ffadbc3b5b5c5e94145ca4e2f8de66ac1e3ddd52...</td>\n",
       "      <td>1629375559</td>\n",
       "      <td>quasar</td>\n",
       "    </tr>\n",
       "    <tr>\n",
       "      <th>2</th>\n",
       "      <td>e7569d494fe00be04ef6c9fcc5e54720c0df623b08e79d...</td>\n",
       "      <td>1362057319</td>\n",
       "      <td>pasta</td>\n",
       "    </tr>\n",
       "    <tr>\n",
       "      <th>3</th>\n",
       "      <td>1ed60c04f572b6acb9f64c31db55ef5c6b5465bd4da1eb...</td>\n",
       "      <td>1630624233</td>\n",
       "      <td>cjishu</td>\n",
       "    </tr>\n",
       "    <tr>\n",
       "      <th>4</th>\n",
       "      <td>4c4aaff20a57213d9a786e56ad22f1eaa94694a2f1042b...</td>\n",
       "      <td>1592186154</td>\n",
       "      <td>kingsoft</td>\n",
       "    </tr>\n",
       "  </tbody>\n",
       "</table>\n",
       "</div>"
      ],
      "text/plain": [
       "                                              sha256  first_submission_date  \\\n",
       "0  98f8e26e12b978102fa39c197f300ebe5fe535617737d5...             1630575593   \n",
       "1  7b2999ffadbc3b5b5c5e94145ca4e2f8de66ac1e3ddd52...             1629375559   \n",
       "2  e7569d494fe00be04ef6c9fcc5e54720c0df623b08e79d...             1362057319   \n",
       "3  1ed60c04f572b6acb9f64c31db55ef5c6b5465bd4da1eb...             1630624233   \n",
       "4  4c4aaff20a57213d9a786e56ad22f1eaa94694a2f1042b...             1592186154   \n",
       "\n",
       "     family  \n",
       "0     tnega  \n",
       "1    quasar  \n",
       "2     pasta  \n",
       "3    cjishu  \n",
       "4  kingsoft  "
      ]
     },
     "execution_count": 6,
     "metadata": {},
     "output_type": "execute_result"
    }
   ],
   "source": [
    "# Join dataframes\n",
    "df = pd.merge(left=df_malwares_first_sub_date, right=df_malware_families, on='sha256')\n",
    "df.head()"
   ]
  },
  {
   "cell_type": "code",
   "execution_count": 9,
   "id": "256e070f9fc296a0",
   "metadata": {
    "ExecuteTime": {
     "end_time": "2024-02-14T13:53:12.634470825Z",
     "start_time": "2024-02-14T13:53:12.387701052Z"
    },
    "collapsed": false
   },
   "outputs": [],
   "source": [
    "df.to_csv(\"merge.csv\", index=False)"
   ]
  }
 ],
 "metadata": {
  "kernelspec": {
   "display_name": "concept_drift",
   "language": "python",
   "name": "concept_drift"
  },
  "language_info": {
   "codemirror_mode": {
    "name": "ipython",
    "version": 3
   },
   "file_extension": ".py",
   "mimetype": "text/x-python",
   "name": "python",
   "nbconvert_exporter": "python",
   "pygments_lexer": "ipython3",
   "version": "3.11.6"
  }
 },
 "nbformat": 4,
 "nbformat_minor": 5
}
