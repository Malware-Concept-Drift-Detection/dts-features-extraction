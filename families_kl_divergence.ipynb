{
 "cells": [
  {
   "cell_type": "markdown",
   "source": [
    "# Training/Test split\n",
    "- Create $N-1$ equidistant splits where $N$ is the number of covered years\n",
    "- For each split normalize the distributions and compute the KL divergence between the training and test set\n",
    "- Finally, compute the maximum KL divergence and plot both the histograms "
   ],
   "metadata": {
    "collapsed": false
   },
   "id": "b989a3890d7aa732"
  },
  {
   "cell_type": "code",
   "execution_count": 104,
   "outputs": [],
   "source": [
    "import pandas as pd\n",
    "import seaborn as sns\n",
    "import matplotlib.pyplot as plt\n",
    "import numpy as np"
   ],
   "metadata": {
    "collapsed": false,
    "ExecuteTime": {
     "end_time": "2024-02-22T10:54:02.494585137Z",
     "start_time": "2024-02-22T10:54:02.442525010Z"
    }
   },
   "id": "41625c44-786b-4ff0-9342-ce4dd17a09e0"
  },
  {
   "cell_type": "code",
   "execution_count": 105,
   "outputs": [
    {
     "data": {
      "text/plain": "                                              sha256  first_submission_date   \n0  98f8e26e12b978102fa39c197f300ebe5fe535617737d5...             1630575593  \\\n1  7b2999ffadbc3b5b5c5e94145ca4e2f8de66ac1e3ddd52...             1629375559   \n2  e7569d494fe00be04ef6c9fcc5e54720c0df623b08e79d...             1362057319   \n3  1ed60c04f572b6acb9f64c31db55ef5c6b5465bd4da1eb...             1630624233   \n4  4c4aaff20a57213d9a786e56ad22f1eaa94694a2f1042b...             1592186154   \n\n     family  \n0     tnega  \n1    quasar  \n2     pasta  \n3    cjishu  \n4  kingsoft  ",
      "text/html": "<div>\n<style scoped>\n    .dataframe tbody tr th:only-of-type {\n        vertical-align: middle;\n    }\n\n    .dataframe tbody tr th {\n        vertical-align: top;\n    }\n\n    .dataframe thead th {\n        text-align: right;\n    }\n</style>\n<table border=\"1\" class=\"dataframe\">\n  <thead>\n    <tr style=\"text-align: right;\">\n      <th></th>\n      <th>sha256</th>\n      <th>first_submission_date</th>\n      <th>family</th>\n    </tr>\n  </thead>\n  <tbody>\n    <tr>\n      <th>0</th>\n      <td>98f8e26e12b978102fa39c197f300ebe5fe535617737d5...</td>\n      <td>1630575593</td>\n      <td>tnega</td>\n    </tr>\n    <tr>\n      <th>1</th>\n      <td>7b2999ffadbc3b5b5c5e94145ca4e2f8de66ac1e3ddd52...</td>\n      <td>1629375559</td>\n      <td>quasar</td>\n    </tr>\n    <tr>\n      <th>2</th>\n      <td>e7569d494fe00be04ef6c9fcc5e54720c0df623b08e79d...</td>\n      <td>1362057319</td>\n      <td>pasta</td>\n    </tr>\n    <tr>\n      <th>3</th>\n      <td>1ed60c04f572b6acb9f64c31db55ef5c6b5465bd4da1eb...</td>\n      <td>1630624233</td>\n      <td>cjishu</td>\n    </tr>\n    <tr>\n      <th>4</th>\n      <td>4c4aaff20a57213d9a786e56ad22f1eaa94694a2f1042b...</td>\n      <td>1592186154</td>\n      <td>kingsoft</td>\n    </tr>\n  </tbody>\n</table>\n</div>"
     },
     "execution_count": 105,
     "metadata": {},
     "output_type": "execute_result"
    }
   ],
   "source": [
    "# Get the merged malware data\n",
    "df = pd.read_csv(\"vt_reports/merge.csv\")\n",
    "df.head()"
   ],
   "metadata": {
    "collapsed": false,
    "ExecuteTime": {
     "end_time": "2024-02-22T10:54:02.567735726Z",
     "start_time": "2024-02-22T10:54:02.484507130Z"
    }
   },
   "id": "1e698c562dcc054d"
  },
  {
   "cell_type": "code",
   "execution_count": 106,
   "outputs": [],
   "source": [
    "fsd = \"first_submission_date\""
   ],
   "metadata": {
    "collapsed": false,
    "ExecuteTime": {
     "end_time": "2024-02-22T10:54:02.576057391Z",
     "start_time": "2024-02-22T10:54:02.569511920Z"
    }
   },
   "id": "4a5c40ff1abe66c"
  },
  {
   "cell_type": "code",
   "execution_count": 107,
   "outputs": [],
   "source": [
    "# Convert the date to datetime\n",
    "df_dt = df.copy()\n",
    "df_dt[fsd] = df_dt[fsd].apply(lambda t: pd.to_datetime(t, unit='s'))"
   ],
   "metadata": {
    "collapsed": false,
    "ExecuteTime": {
     "end_time": "2024-02-22T10:54:08.170210279Z",
     "start_time": "2024-02-22T10:54:02.573986732Z"
    }
   },
   "id": "9d52c465cc4f6a93"
  },
  {
   "cell_type": "code",
   "execution_count": 108,
   "outputs": [
    {
     "data": {
      "text/plain": "[Timestamp('2007-05-18 00:00:00'),\n Timestamp('2008-05-13 00:00:00'),\n Timestamp('2009-05-09 00:00:00'),\n Timestamp('2010-05-05 00:00:00'),\n Timestamp('2011-05-01 00:00:00'),\n Timestamp('2012-04-26 00:00:00'),\n Timestamp('2013-04-22 00:00:00'),\n Timestamp('2014-04-18 00:00:00'),\n Timestamp('2015-04-14 00:00:00'),\n Timestamp('2016-04-09 00:00:00'),\n Timestamp('2017-04-05 00:00:00'),\n Timestamp('2018-04-01 00:00:00'),\n Timestamp('2019-03-28 00:00:00'),\n Timestamp('2020-03-23 00:00:00'),\n Timestamp('2021-03-19 00:00:00')]"
     },
     "execution_count": 108,
     "metadata": {},
     "output_type": "execute_result"
    }
   ],
   "source": [
    "fsd = \"first_submission_date\"\n",
    "\n",
    "# Min and maximum dates\n",
    "date_min = df_dt[fsd].min()\n",
    "date_max = df_dt[fsd].max()\n",
    "\n",
    "# Create equidistant splits\n",
    "date_splits = [pd.Timestamp(f\"{date_min.year}-{date_min.month}-{date_min.day}\") +\n",
    "               pd.Timedelta(i * (date_max - date_min).days / (date_max.year - date_min.year), unit='D')\n",
    "               for i in range(1, date_max.year - date_min.year)]\n",
    "date_splits"
   ],
   "metadata": {
    "collapsed": false,
    "ExecuteTime": {
     "end_time": "2024-02-22T10:54:08.182667390Z",
     "start_time": "2024-02-22T10:54:08.173514591Z"
    }
   },
   "id": "fa2ff0f5658b8429"
  },
  {
   "cell_type": "code",
   "execution_count": 109,
   "outputs": [],
   "source": [
    "def split_and_normalize(src_df: pd.DataFrame, split_condition: bool, split_label: str = \"\"):\n",
    "    dst_df = src_df[split_condition]\n",
    "    dst_df = dst_df.groupby([\"family\"]).size().reset_index(name='count')\n",
    "    dst_df[\"perc\"] = dst_df[\"count\"] / dst_df[\"count\"].sum()\n",
    "    dst_df[\"split\"] = split_label\n",
    "    return dst_df\n",
    "\n",
    "\n",
    "def kl_divergence(p, q):\n",
    "    # Avoid division by zero by adding a small epsilon\n",
    "    epsilon = 1e-7\n",
    "    p = np.clip(p, epsilon, 1 - epsilon)\n",
    "    q = np.clip(q, epsilon, 1 - epsilon)\n",
    "    return np.sum(p * np.log(p / q))"
   ],
   "metadata": {
    "collapsed": false,
    "ExecuteTime": {
     "end_time": "2024-02-22T10:54:08.189645237Z",
     "start_time": "2024-02-22T10:54:08.184987765Z"
    }
   },
   "id": "bb37112ea03cddb"
  },
  {
   "cell_type": "code",
   "execution_count": 110,
   "outputs": [],
   "source": [
    "# Compute the KL divergence for each possible split\n",
    "df_split = df_dt.copy()\n",
    "kl_divergences = []\n",
    "for date_split in date_splits:\n",
    "    # Split the dataset\n",
    "    df_train = split_and_normalize(df_split, df_split[fsd] < date_split)\n",
    "    df_test = split_and_normalize(df_split, df_split[fsd] >= date_split)\n",
    "    kl_divergences.append(kl_divergence(df_train[\"perc\"], df_test[\"perc\"]))"
   ],
   "metadata": {
    "collapsed": false,
    "ExecuteTime": {
     "end_time": "2024-02-22T10:54:08.434741504Z",
     "start_time": "2024-02-22T10:54:08.192803636Z"
    }
   },
   "id": "bccdd6b0d3e39efe"
  },
  {
   "cell_type": "code",
   "execution_count": 114,
   "outputs": [
    {
     "name": "stdout",
     "output_type": "stream",
     "text": [
      "Max KL divergence: 3.232605883830189, Best split: 2007-05-18 00:00:00\n"
     ]
    },
    {
     "data": {
      "text/plain": "<Figure size 1000x700 with 1 Axes>",
      "image/png": "[encoded data removed]"
     },
     "metadata": {},
     "output_type": "display_data"
    }
   ],
   "source": [
    "# Get the maximum KL divergence and plot the histogram\n",
    "max_idx, max_kl = np.argmax(kl_divergences), np.max(kl_divergences)\n",
    "best_split = date_splits[max_idx]\n",
    "\n",
    "print(f\"Max KL divergence: {max_kl}, Best split: {best_split}\")\n",
    "\n",
    "# Split the dataset\n",
    "df_train = split_and_normalize(df_split, df_split[fsd] < best_split, \"train\")\n",
    "df_test = split_and_normalize(df_split, df_split[fsd] >= best_split, \"test\")\n",
    "\n",
    "# Take only 50 families for visualization purposes\n",
    "families = df[\"family\"].unique()[:50]\n",
    "\n",
    "# df_train = df_train.sort_values(by=\"perc\", ascending=False)\n",
    "# top_df_train_families = df_train[\"family\"]#[:50]\n",
    "# \n",
    "df_train = df_train[df_train[\"family\"].isin(families)]\n",
    "df_test = df_test[df_test[\"family\"].isin(families)]\n",
    "\n",
    "df_merge = pd.concat([df_train, df_test])\n",
    "plt.figure(figsize=(10, 7))\n",
    "plt.title(f\"Split {best_split}\")\n",
    "sns.barplot(data=df_merge, x=\"family\", y=\"perc\", hue=\"split\")\n",
    "plt.xticks([])\n",
    "plt.show()"
   ],
   "metadata": {
    "collapsed": false,
    "ExecuteTime": {
     "end_time": "2024-02-22T10:55:15.324941552Z",
     "start_time": "2024-02-22T10:55:15.030395276Z"
    }
   },
   "id": "b1877b43d4488351"
  }
 ],
 "metadata": {
  "kernelspec": {
   "display_name": "concept_drift",
   "language": "python",
   "name": "concept_drift"
  },
  "language_info": {
   "codemirror_mode": {
    "name": "ipython",
    "version": 3
   },
   "file_extension": ".py",
   "mimetype": "text/x-python",
   "name": "python",
   "nbconvert_exporter": "python",
   "pygments_lexer": "ipython3",
   "version": "3.11.6"
  }
 },
 "nbformat": 4,
 "nbformat_minor": 5
}
