{
 "cells": [
  {
   "cell_type": "code",
   "execution_count": null,
   "id": "41625c44-786b-4ff0-9342-ce4dd17a09e0",
   "metadata": {
    "is_executing": true
   },
   "outputs": [],
   "source": [
    "import pandas as pd\n",
    "from io import StringIO"
   ]
  },
  {
   "cell_type": "code",
   "execution_count": null,
   "id": "8f135bca-3024-4118-85ac-367ab46a981a",
   "metadata": {
    "is_executing": true
   },
   "outputs": [],
   "source": [
    "# Open VT reports and get SHA256 and first_submission_date values for each json (line).\n",
    "def extract_first_submission_dates(file_path) -> pd.DataFrame:\n",
    "    malwares_first_sub_date = []\n",
    "    with open(file_path, 'r') as reports:\n",
    "        sha256_key, first_sub_date_key = 'sha256', 'first_submission_date'\n",
    "        # Iterate through all reports\n",
    "        for report in reports:\n",
    "            df_report = pd.read_json(StringIO(report))['data']['attributes']\n",
    "            sha256, first_sub_date = df_report[sha256_key], df_report[first_sub_date_key]\n",
    "            malwares_first_sub_date.append((sha256, first_sub_date))\n",
    "\n",
    "    return pd.DataFrame(malwares_first_sub_date, columns=[sha256_key, first_sub_date_key])\n"
   ]
  },
  {
   "cell_type": "code",
   "execution_count": null,
   "id": "aa786b9e-f1ea-4efa-912c-b37fffeb44a0",
   "metadata": {
    "is_executing": true
   },
   "outputs": [],
   "source": [
    "reports_path = './vt_reports/vt_reports67k.jsons'\n",
    "df_malwares_first_sub_date = extract_first_submission_dates(file_path=reports_path)\n",
    "\n",
    "df_malwares_first_sub_date.head()"
   ]
  },
  {
   "cell_type": "code",
   "execution_count": null,
   "id": "74743895-f376-4014-9470-0490564d51af",
   "metadata": {
    "is_executing": true
   },
   "outputs": [],
   "source": [
    "def extract_malware_family(file_path) -> pd.DataFrame:\n",
    "    df = pd.read_csv(file_path, usecols=['SHA256', 'FAMILY'])\n",
    "    return df.rename(str.lower, axis='columns')"
   ]
  },
  {
   "cell_type": "code",
   "execution_count": null,
   "id": "0e238386-5986-42ea-bc45-c576826647a4",
   "metadata": {
    "is_executing": true
   },
   "outputs": [],
   "source": [
    "malware_families_path = \"./vt_reports/siggregator_all_samples_no_fuzzy_hash.csv\"\n",
    "df_malware_families = extract_malware_family(file_path=malware_families_path)\n",
    "df_malware_families.head()"
   ]
  },
  {
   "cell_type": "code",
   "execution_count": null,
   "id": "c1c250ad-8ec6-4085-9939-d955fc5fe239",
   "metadata": {
    "is_executing": true
   },
   "outputs": [],
   "source": [
    "# Join dataframes\n",
    "df = pd.merge(left=df_malwares_first_sub_date, right=df_malware_families, on='sha256')\n",
    "df.head()"
   ]
  },
  {
   "cell_type": "code",
   "execution_count": null,
   "outputs": [],
   "source": [
    "df.to_csv(\"merge.csv\", index=False)"
   ],
   "metadata": {
    "collapsed": false,
    "is_executing": true
   },
   "id": "256e070f9fc296a0"
  }
 ],
 "metadata": {
  "kernelspec": {
   "name": "concept_drift",
   "language": "python",
   "display_name": "concept_drift"
  },
  "language_info": {
   "codemirror_mode": {
    "name": "ipython",
    "version": 3
   },
   "file_extension": ".py",
   "mimetype": "text/x-python",
   "name": "python",
   "nbconvert_exporter": "python",
   "pygments_lexer": "ipython3",
   "version": "3.11.6"
  }
 },
 "nbformat": 4,
 "nbformat_minor": 5
}
